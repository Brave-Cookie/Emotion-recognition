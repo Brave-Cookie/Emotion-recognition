{
 "cells": [
  {
   "cell_type": "code",
   "execution_count": 1,
   "id": "aboriginal-scoop",
   "metadata": {},
   "outputs": [
    {
     "name": "stdout",
     "output_type": "stream",
     "text": [
      "Requirement already satisfied: librosa in c:\\users\\jeonbar2\\appdata\\local\\programs\\python\\python39\\lib\\site-packages (0.8.0)\n",
      "Requirement already satisfied: audioread>=2.0.0 in c:\\users\\jeonbar2\\appdata\\local\\programs\\python\\python39\\lib\\site-packages (from librosa) (2.1.9)\n",
      "Requirement already satisfied: numpy>=1.15.0 in c:\\users\\jeonbar2\\appdata\\local\\programs\\python\\python39\\lib\\site-packages (from librosa) (1.20.2)\n",
      "Requirement already satisfied: scipy>=1.0.0 in c:\\users\\jeonbar2\\appdata\\local\\programs\\python\\python39\\lib\\site-packages (from librosa) (1.6.2)\n",
      "Requirement already satisfied: scikit-learn!=0.19.0,>=0.14.0 in c:\\users\\jeonbar2\\appdata\\local\\programs\\python\\python39\\lib\\site-packages (from librosa) (0.24.1)\n",
      "Requirement already satisfied: joblib>=0.14 in c:\\users\\jeonbar2\\appdata\\local\\programs\\python\\python39\\lib\\site-packages (from librosa) (1.0.1)\n",
      "Requirement already satisfied: decorator>=3.0.0 in c:\\users\\jeonbar2\\appdata\\local\\programs\\python\\python39\\lib\\site-packages (from librosa) (4.4.2)\n",
      "Requirement already satisfied: resampy>=0.2.2 in c:\\users\\jeonbar2\\appdata\\local\\programs\\python\\python39\\lib\\site-packages (from librosa) (0.2.2)\n",
      "Requirement already satisfied: numba>=0.43.0 in c:\\users\\jeonbar2\\appdata\\local\\programs\\python\\python39\\lib\\site-packages (from librosa) (0.53.1)\n",
      "Requirement already satisfied: soundfile>=0.9.0 in c:\\users\\jeonbar2\\appdata\\local\\programs\\python\\python39\\lib\\site-packages (from librosa) (0.10.3.post1)\n",
      "Requirement already satisfied: pooch>=1.0 in c:\\users\\jeonbar2\\appdata\\local\\programs\\python\\python39\\lib\\site-packages (from librosa) (1.3.0)\n",
      "Requirement already satisfied: setuptools in c:\\users\\jeonbar2\\appdata\\local\\programs\\python\\python39\\lib\\site-packages (from numba>=0.43.0->librosa) (54.1.2)\n",
      "Requirement already satisfied: llvmlite<0.37,>=0.36.0rc1 in c:\\users\\jeonbar2\\appdata\\local\\programs\\python\\python39\\lib\\site-packages (from numba>=0.43.0->librosa) (0.36.0)\n",
      "Requirement already satisfied: packaging in c:\\users\\jeonbar2\\appdata\\local\\programs\\python\\python39\\lib\\site-packages (from pooch>=1.0->librosa) (20.9)\n",
      "Requirement already satisfied: appdirs in c:\\users\\jeonbar2\\appdata\\local\\programs\\python\\python39\\lib\\site-packages (from pooch>=1.0->librosa) (1.4.4)\n",
      "Requirement already satisfied: requests in c:\\users\\jeonbar2\\appdata\\local\\programs\\python\\python39\\lib\\site-packages (from pooch>=1.0->librosa) (2.25.1)\n",
      "Requirement already satisfied: six>=1.3 in c:\\users\\jeonbar2\\appdata\\local\\programs\\python\\python39\\lib\\site-packages (from resampy>=0.2.2->librosa) (1.15.0)\n",
      "Requirement already satisfied: threadpoolctl>=2.0.0 in c:\\users\\jeonbar2\\appdata\\local\\programs\\python\\python39\\lib\\site-packages (from scikit-learn!=0.19.0,>=0.14.0->librosa) (2.1.0)\n",
      "Requirement already satisfied: cffi>=1.0 in c:\\users\\jeonbar2\\appdata\\local\\programs\\python\\python39\\lib\\site-packages (from soundfile>=0.9.0->librosa) (1.14.5)\n",
      "Requirement already satisfied: pycparser in c:\\users\\jeonbar2\\appdata\\local\\programs\\python\\python39\\lib\\site-packages (from cffi>=1.0->soundfile>=0.9.0->librosa) (2.20)\n",
      "Requirement already satisfied: pyparsing>=2.0.2 in c:\\users\\jeonbar2\\appdata\\local\\programs\\python\\python39\\lib\\site-packages (from packaging->pooch>=1.0->librosa) (2.4.7)\n",
      "Requirement already satisfied: certifi>=2017.4.17 in c:\\users\\jeonbar2\\appdata\\local\\programs\\python\\python39\\lib\\site-packages (from requests->pooch>=1.0->librosa) (2020.12.5)\n",
      "Requirement already satisfied: chardet<5,>=3.0.2 in c:\\users\\jeonbar2\\appdata\\local\\programs\\python\\python39\\lib\\site-packages (from requests->pooch>=1.0->librosa) (4.0.0)\n",
      "Requirement already satisfied: idna<3,>=2.5 in c:\\users\\jeonbar2\\appdata\\local\\programs\\python\\python39\\lib\\site-packages (from requests->pooch>=1.0->librosa) (2.10)\n",
      "Requirement already satisfied: urllib3<1.27,>=1.21.1 in c:\\users\\jeonbar2\\appdata\\local\\programs\\python\\python39\\lib\\site-packages (from requests->pooch>=1.0->librosa) (1.26.3)\n",
      "Note: you may need to restart the kernel to use updated packages.\n"
     ]
    }
   ],
   "source": [
    "pip install librosa"
   ]
  },
  {
   "cell_type": "code",
   "execution_count": 2,
   "id": "everyday-vegetable",
   "metadata": {
    "scrolled": true
   },
   "outputs": [
    {
     "name": "stdout",
     "output_type": "stream",
     "text": [
      "Requirement already satisfied: imutils in c:\\users\\jeonbar2\\appdata\\local\\programs\\python\\python39\\lib\\site-packages (0.5.4)\n",
      "Note: you may need to restart the kernel to use updated packages.\n"
     ]
    }
   ],
   "source": [
    "pip install imutils"
   ]
  },
  {
   "cell_type": "code",
   "execution_count": 3,
   "id": "plain-complexity",
   "metadata": {},
   "outputs": [
    {
     "name": "stdout",
     "output_type": "stream",
     "text": [
      "Requirement already satisfied: opencv-python in c:\\users\\jeonbar2\\appdata\\local\\programs\\python\\python39\\lib\\site-packages (4.5.1.48)\n",
      "Requirement already satisfied: numpy>=1.19.3 in c:\\users\\jeonbar2\\appdata\\local\\programs\\python\\python39\\lib\\site-packages (from opencv-python) (1.20.2)\n",
      "Note: you may need to restart the kernel to use updated packages.\n"
     ]
    }
   ],
   "source": [
    "pip install opencv-python"
   ]
  },
  {
   "cell_type": "code",
   "execution_count": 4,
   "id": "vulnerable-token",
   "metadata": {},
   "outputs": [
    {
     "name": "stdout",
     "output_type": "stream",
     "text": [
      "Requirement already satisfied: sklearn in c:\\users\\jeonbar2\\appdata\\local\\programs\\python\\python39\\lib\\site-packages (0.0)Note: you may need to restart the kernel to use updated packages.\n",
      "\n",
      "Requirement already satisfied: scikit-learn in c:\\users\\jeonbar2\\appdata\\local\\programs\\python\\python39\\lib\\site-packages (from sklearn) (0.24.1)\n",
      "Requirement already satisfied: joblib>=0.11 in c:\\users\\jeonbar2\\appdata\\local\\programs\\python\\python39\\lib\\site-packages (from scikit-learn->sklearn) (1.0.1)\n",
      "Requirement already satisfied: numpy>=1.13.3 in c:\\users\\jeonbar2\\appdata\\local\\programs\\python\\python39\\lib\\site-packages (from scikit-learn->sklearn) (1.20.2)\n",
      "Requirement already satisfied: threadpoolctl>=2.0.0 in c:\\users\\jeonbar2\\appdata\\local\\programs\\python\\python39\\lib\\site-packages (from scikit-learn->sklearn) (2.1.0)\n",
      "Requirement already satisfied: scipy>=0.19.1 in c:\\users\\jeonbar2\\appdata\\local\\programs\\python\\python39\\lib\\site-packages (from scikit-learn->sklearn) (1.6.2)\n"
     ]
    }
   ],
   "source": [
    "pip install sklearn"
   ]
  },
  {
   "cell_type": "code",
   "execution_count": 42,
   "id": "persistent-ontario",
   "metadata": {},
   "outputs": [],
   "source": [
    "from sklearn.model_selection import train_test_split \n",
    "from sklearn.model_selection import GridSearchCV\n",
    "from sklearn.mixture import GaussianMixture\n",
    "from sklearn.metrics import accuracy_score\n",
    "\n",
    "from sklearn.svm import SVC\n",
    "from imutils import paths\n",
    "\n",
    "import joblib\n",
    "import matplotlib.pyplot as plt\n",
    "import soundfile as sf\n",
    "import librosa\n",
    "import wave, array\n",
    "import numpy as np\n",
    "import pickle\n",
    "import sys\n",
    "import os\n",
    "\n",
    "import warnings\n",
    "warnings.filterwarnings('ignore')"
   ]
  },
  {
   "cell_type": "code",
   "execution_count": 43,
   "id": "blind-elizabeth",
   "metadata": {},
   "outputs": [],
   "source": [
    "# 음성 파일 및 음성 파일 이름 불러오기\n",
    "folder = 'C:/Jeonbar2/Capstone/최종 DB(3차년도)/wav'\n",
    "files = paths.list_files(folder)\n",
    "\n",
    "dataset = []\n",
    "name = []\n",
    "\n",
    "for i in files:\n",
    "    y, sr = librosa.load(i, sr = 16000)\n",
    "    dataset.append([y, sr])\n",
    "    name.append((os.path.basename(i)))"
   ]
  },
  {
   "cell_type": "code",
   "execution_count": 44,
   "id": "single-acrylic",
   "metadata": {},
   "outputs": [],
   "source": [
    "\n",
    "# 음성 파일 길이 저장하기\n",
    "duration = []\n",
    "\n",
    "for data in dataset:\n",
    "    duration.append(int(librosa.get_duration(data[0], data[1])))\n",
    "\n",
    "\n",
    "# 음성 파일 2초씩 자르고 저장하기 예를 들어 4초 짜리 파일인경우 0~2,1~3,2~4 \n",
    "folder = 'C:/Jeonbar2/Capstone/최종 DB(3차년도)/cut2/cut'\n",
    "\n",
    "for data, name, duration in zip(dataset, name, duration):\n",
    "    y, sr = data\n",
    "    for i in range(0,duration-1):\n",
    "        cutted_y = y[i*16000:(i+2)*16000]\n",
    "        cutted_name = name[:-4]        \n",
    "        sf.write(folder + cutted_name + '_' + str(i+1) + '.wav', cutted_y, sr, 'PCM_16')"
   ]
  },
  {
   "cell_type": "code",
   "execution_count": 8,
   "id": "representative-spending",
   "metadata": {},
   "outputs": [
    {
     "data": {
      "text/plain": [
       "<module 'soundfile' from 'c:\\\\users\\\\jeonbar2\\\\appdata\\\\local\\\\programs\\\\python\\\\python39\\\\lib\\\\site-packages\\\\soundfile.py'>"
      ]
     },
     "execution_count": 8,
     "metadata": {},
     "output_type": "execute_result"
    }
   ],
   "source": [
    "sf"
   ]
  },
  {
   "cell_type": "code",
   "execution_count": null,
   "id": "careful-prayer",
   "metadata": {},
   "outputs": [],
   "source": []
  }
 ],
 "metadata": {
  "kernelspec": {
   "display_name": "Python 3",
   "language": "python",
   "name": "python3"
  },
  "language_info": {
   "codemirror_mode": {
    "name": "ipython",
    "version": 3
   },
   "file_extension": ".py",
   "mimetype": "text/x-python",
   "name": "python",
   "nbconvert_exporter": "python",
   "pygments_lexer": "ipython3",
   "version": "3.9.2"
  }
 },
 "nbformat": 4,
 "nbformat_minor": 5
}